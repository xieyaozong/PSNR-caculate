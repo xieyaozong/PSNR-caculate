{
 "cells": [
  {
   "cell_type": "code",
   "execution_count": 1,
   "id": "56090d12",
   "metadata": {},
   "outputs": [],
   "source": [
    "import numpy as np\n",
    "import cv2 as cv\n",
    "import glob\n",
    "import math\n",
    "import matplotlib.pyplot as plt\n",
    "from IPython.display import clear_output\n"
   ]
  },
  {
   "cell_type": "code",
   "execution_count": 2,
   "id": "f3add61f",
   "metadata": {},
   "outputs": [],
   "source": [
    "image = cv.imread('1.jpg',cv.IMREAD_GRAYSCALE)"
   ]
  },
  {
   "cell_type": "code",
   "execution_count": 3,
   "id": "87d4752d",
   "metadata": {},
   "outputs": [
    {
     "data": {
      "text/plain": [
       "True"
      ]
     },
     "execution_count": 3,
     "metadata": {},
     "output_type": "execute_result"
    }
   ],
   "source": [
    "cv.imwrite(\"gray.jpg\", image)"
   ]
  },
  {
   "cell_type": "code",
   "execution_count": 14,
   "id": "9ae353ab",
   "metadata": {},
   "outputs": [],
   "source": [
    "def gaussian_noise(img, mean=0, sigma=0.5):\n",
    "    img = img / 255.0\n",
    "    noise = np.random.normal(mean, sigma, img.shape)\n",
    "    img = img + noise\n",
    "    img = np.clip(img, 0, 1)\n",
    "    img = np.uint8(img*255)\n",
    " \n",
    "    return img"
   ]
  },
  {
   "cell_type": "code",
   "execution_count": 19,
   "id": "46d7bd54",
   "metadata": {},
   "outputs": [],
   "source": [
    "def median_filter(image,size):\n",
    "    H,W = image.shape    \n",
    "    \n",
    "    pad = size // 2\n",
    "    \n",
    "    out = np.zeros((H + pad*2, W + pad*2), dtype=np.float)\n",
    "    \n",
    "    out[pad:pad+H, pad:pad+W] = image.copy().astype(np.float)\n",
    "    \n",
    "    tmp = out.copy()\n",
    "\n",
    "    for y in range(H):\n",
    "        for x in range(W):\n",
    "            out[pad+y, pad+x] = np.median(tmp[y:y+size, x:x+size])\n",
    "    \n",
    "    out = out[pad:pad+H, pad:pad+W].astype(np.uint8)\n",
    "    \n",
    "    return out"
   ]
  },
  {
   "cell_type": "code",
   "execution_count": 20,
   "id": "3a8fe330",
   "metadata": {},
   "outputs": [],
   "source": [
    "def psnr(img1, img2):\n",
    "    mse = np.mean( (img1/255. - img2/255.) ** 2 )\n",
    "    if mse < 1.0e-10:\n",
    "        return 100\n",
    "    PIXEL_MAX = 1\n",
    "    \n",
    "    return 20 * math.log10(PIXEL_MAX / math.sqrt(mse))"
   ]
  },
  {
   "cell_type": "code",
   "execution_count": 21,
   "id": "3c231eea",
   "metadata": {},
   "outputs": [],
   "source": [
    "image1 = gaussian_noise(image)\n",
    "\n",
    "image2 = gaussian_noise(image)"
   ]
  },
  {
   "cell_type": "code",
   "execution_count": 22,
   "id": "1dd2bf46",
   "metadata": {},
   "outputs": [
    {
     "data": {
      "text/plain": [
       "True"
      ]
     },
     "execution_count": 22,
     "metadata": {},
     "output_type": "execute_result"
    }
   ],
   "source": [
    "cv.imwrite(\"noise_2.jpg\", image1)"
   ]
  },
  {
   "cell_type": "code",
   "execution_count": 23,
   "id": "f5e2ac3f",
   "metadata": {},
   "outputs": [
    {
     "name": "stderr",
     "output_type": "stream",
     "text": [
      "C:\\Users\\User\\AppData\\Local\\Temp\\ipykernel_23688\\4053635734.py:6: DeprecationWarning: `np.float` is a deprecated alias for the builtin `float`. To silence this warning, use `float` by itself. Doing this will not modify any behavior and is safe. If you specifically wanted the numpy scalar type, use `np.float64` here.\n",
      "Deprecated in NumPy 1.20; for more details and guidance: https://numpy.org/devdocs/release/1.20.0-notes.html#deprecations\n",
      "  out = np.zeros((H + pad*2, W + pad*2), dtype=np.float)\n",
      "C:\\Users\\User\\AppData\\Local\\Temp\\ipykernel_23688\\4053635734.py:8: DeprecationWarning: `np.float` is a deprecated alias for the builtin `float`. To silence this warning, use `float` by itself. Doing this will not modify any behavior and is safe. If you specifically wanted the numpy scalar type, use `np.float64` here.\n",
      "Deprecated in NumPy 1.20; for more details and guidance: https://numpy.org/devdocs/release/1.20.0-notes.html#deprecations\n",
      "  out[pad:pad+H, pad:pad+W] = image.copy().astype(np.float)\n"
     ]
    }
   ],
   "source": [
    "p3_1 = median_filter(image1,3)\n",
    "\n",
    "p3_2 = median_filter(p3_1,3)\n",
    "\n",
    "cv.imwrite(\"p3_2.jpg\", p3_2)\n",
    "\n",
    "cv.waitKey(0)\n",
    "\n",
    "cv.destroyAllWindows()"
   ]
  },
  {
   "cell_type": "code",
   "execution_count": 24,
   "id": "48882e14",
   "metadata": {},
   "outputs": [
    {
     "name": "stderr",
     "output_type": "stream",
     "text": [
      "C:\\Users\\User\\AppData\\Local\\Temp\\ipykernel_23688\\4053635734.py:6: DeprecationWarning: `np.float` is a deprecated alias for the builtin `float`. To silence this warning, use `float` by itself. Doing this will not modify any behavior and is safe. If you specifically wanted the numpy scalar type, use `np.float64` here.\n",
      "Deprecated in NumPy 1.20; for more details and guidance: https://numpy.org/devdocs/release/1.20.0-notes.html#deprecations\n",
      "  out = np.zeros((H + pad*2, W + pad*2), dtype=np.float)\n",
      "C:\\Users\\User\\AppData\\Local\\Temp\\ipykernel_23688\\4053635734.py:8: DeprecationWarning: `np.float` is a deprecated alias for the builtin `float`. To silence this warning, use `float` by itself. Doing this will not modify any behavior and is safe. If you specifically wanted the numpy scalar type, use `np.float64` here.\n",
      "Deprecated in NumPy 1.20; for more details and guidance: https://numpy.org/devdocs/release/1.20.0-notes.html#deprecations\n",
      "  out[pad:pad+H, pad:pad+W] = image.copy().astype(np.float)\n"
     ]
    }
   ],
   "source": [
    "p5 = median_filter(image2,5)\n",
    "\n",
    "cv.imwrite(\"p5_2.jpg\", p5)\n",
    "\n",
    "cv.waitKey(0)\n",
    "\n",
    "cv.destroyAllWindows()"
   ]
  },
  {
   "cell_type": "code",
   "execution_count": 25,
   "id": "a7f8b7e7",
   "metadata": {},
   "outputs": [
    {
     "name": "stdout",
     "output_type": "stream",
     "text": [
      "14.548550329353407\n"
     ]
    }
   ],
   "source": [
    "print(psnr(p3_2,p5))"
   ]
  },
  {
   "cell_type": "code",
   "execution_count": null,
   "id": "0a7d9e24",
   "metadata": {},
   "outputs": [],
   "source": []
  }
 ],
 "metadata": {
  "kernelspec": {
   "display_name": "Python 3",
   "language": "python",
   "name": "python3"
  },
  "language_info": {
   "codemirror_mode": {
    "name": "ipython",
    "version": 3
   },
   "file_extension": ".py",
   "mimetype": "text/x-python",
   "name": "python",
   "nbconvert_exporter": "python",
   "pygments_lexer": "ipython3",
   "version": "3.9.12"
  }
 },
 "nbformat": 4,
 "nbformat_minor": 5
}
